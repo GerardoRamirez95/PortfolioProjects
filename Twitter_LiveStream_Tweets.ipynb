{
  "nbformat": 4,
  "nbformat_minor": 0,
  "metadata": {
    "colab": {
      "name": "Twitter_LiveStream_Tweets.ipynb",
      "provenance": [],
      "collapsed_sections": [],
      "mount_file_id": "1TLCzzwZqwPP6-XutmEcYshAMBU7LDWPy",
      "authorship_tag": "ABX9TyN0192tL295C47WI4laOZc+"
    },
    "kernelspec": {
      "name": "python3",
      "display_name": "Python 3"
    },
    "language_info": {
      "name": "python"
    }
  },
  "cells": [
    {
      "cell_type": "code",
      "execution_count": 1,
      "metadata": {
        "id": "eiuMhz0ftVKr"
      },
      "outputs": [],
      "source": [
        "import tweepy\n",
        "import configparser\n",
        "import pandas as pd\n",
        "import re\n",
        "import numpy as np"
      ]
    },
    {
      "cell_type": "markdown",
      "source": [
        "##Twitter API Set Up"
      ],
      "metadata": {
        "id": "Qw3m6w3er7gV"
      }
    },
    {
      "cell_type": "code",
      "source": [
        "config = configparser.ConfigParser()\n",
        "config.read('config.ini')\n",
        "\n",
        "api_key = config['twitter']['api_key']\n",
        "api_secret = config['twitter']['api_secret']\n",
        "\n",
        "access_token = config['twitter']['access_token']\n",
        "access_token_secret = config['twitter']['access_token_secret']\n",
        "\n"
      ],
      "metadata": {
        "id": "DMZ2c5456Puu"
      },
      "execution_count": 2,
      "outputs": []
    },
    {
      "cell_type": "code",
      "source": [
        "auth = tweepy.OAuthHandler(api_key, api_secret)\n",
        "auth.set_access_token(access_token, access_token_secret)"
      ],
      "metadata": {
        "id": "A0mcQVI4w7Ye"
      },
      "execution_count": 3,
      "outputs": []
    },
    {
      "cell_type": "code",
      "source": [
        "api = tweepy.API(auth)"
      ],
      "metadata": {
        "id": "0TF-O0wdxRF5"
      },
      "execution_count": 4,
      "outputs": []
    },
    {
      "cell_type": "code",
      "source": [
        "class Streamer(tweepy.Stream):\n",
        "  \n",
        "  tweets = []\n",
        "  limit = 1     #100 for keyword\n",
        "\n",
        "\n",
        "  def on_status(self, status):\n",
        "    self.tweets.append(status)\n",
        "    #print(status.user.screen_name + ': ' + status.text)\n",
        "\n",
        "    if len(self.tweets) == self.limit:\n",
        "      self.disconnect()\n",
        "\n",
        "stream_tweet = Streamer(api_key, api_secret, access_token, access_token_secret)\n"
      ],
      "metadata": {
        "id": "QWiP4zoHZ4D6"
      },
      "execution_count": 5,
      "outputs": []
    },
    {
      "cell_type": "code",
      "source": [
        "#Stream by keywords and/or hashtag OR by user\n",
        "\n",
        "#keywords = ['ADA', '#Cardano']\n",
        "\n",
        "#stream_tweet.filter(track=keywords)\n",
        "\n",
        "#Stream by Users\n",
        "users = ['G_Ramirez95'] #could have multiple or just one\n",
        "user_ids = []\n",
        "\n",
        "for user in users:\n",
        "  user_ids.append(api.get_user(screen_name=user).id)\n",
        "\n",
        "print(user_ids)\n",
        "\n",
        "stream_tweet.filter(follow=user_ids)"
      ],
      "metadata": {
        "colab": {
          "base_uri": "https://localhost:8080/"
        },
        "id": "907fpLpiaGR1",
        "outputId": "d31bd4ef-64ba-44aa-cbe0-99d0ae145442"
      },
      "execution_count": 6,
      "outputs": [
        {
          "output_type": "stream",
          "name": "stdout",
          "text": [
            "[1327378455671971840]\n"
          ]
        },
        {
          "output_type": "stream",
          "name": "stderr",
          "text": [
            "Stream connection closed by Twitter\n"
          ]
        }
      ]
    },
    {
      "cell_type": "code",
      "source": [
        "#Create a Dataframe\n",
        "\n",
        "columns = ['User', 'Tweet']\n",
        "data = []\n",
        "\n",
        "for tweet in stream_tweet.tweets:\n",
        "  if not tweet.truncated:\n",
        "    data.append([tweet.user.screen_name, tweet.text])\n",
        "\n",
        "  else:\n",
        "    data.append([tweet.user.screen_name, tweet.extended_tweet['full_text']])\n",
        "\n",
        "df = pd.DataFrame(data, columns=columns)\n",
        "\n",
        "print(df)"
      ],
      "metadata": {
        "colab": {
          "base_uri": "https://localhost:8080/"
        },
        "id": "VDdvrXnndo7y",
        "outputId": "9c6aab64-4cdf-46e3-ba05-f73d8e17e176"
      },
      "execution_count": 7,
      "outputs": [
        {
          "output_type": "stream",
          "name": "stdout",
          "text": [
            "          User                           Tweet\n",
            "0  G_Ramirez95  Thank you for viewing my code!\n"
          ]
        }
      ]
    }
  ]
}